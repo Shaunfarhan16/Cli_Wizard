{
 "cells": [
  {
   "cell_type": "markdown",
   "id": "af857d31-e286-4ae9-a643-c2ada6809533",
   "metadata": {},
   "source": [
    "# Ultimate bash commands "
   ]
  },
  {
   "cell_type": "markdown",
   "id": "3bc6c608-302a-432c-94c4-1a5a427f2254",
   "metadata": {},
   "source": [
    "### 1. Create and activate a virtual environment:"
   ]
  },
  {
   "cell_type": "code",
   "execution_count": null,
   "id": "cb341b06-5f12-4604-aa33-e88bff305675",
   "metadata": {},
   "outputs": [],
   "source": [
    "python -m venv .venv"
   ]
  },
  {
   "cell_type": "code",
   "execution_count": null,
   "id": "f63827dc-aa88-46c3-9a13-0003d0a70b44",
   "metadata": {},
   "outputs": [],
   "source": [
    ".venv\\Scripts\\activate"
   ]
  },
  {
   "cell_type": "code",
   "execution_count": null,
   "id": "547048e8-2049-44c6-82f9-ac7e65a4442f",
   "metadata": {},
   "outputs": [],
   "source": [
    ".venv\\Scripts\\activate\n",
    "python main.py"
   ]
  },
  {
   "cell_type": "markdown",
   "id": "3216eab6-bc78-4a7b-b633-cbed29a8e0ad",
   "metadata": {},
   "source": [
    "### 2.closing (deactivating) a virtual environment"
   ]
  },
  {
   "cell_type": "code",
   "execution_count": null,
   "id": "9be4ed20-3abe-4cfa-bf76-ce82eeead843",
   "metadata": {},
   "outputs": [],
   "source": [
    "deactivate"
   ]
  },
  {
   "cell_type": "markdown",
   "id": "adad42be-f3fa-475a-99f9-7b70fefe6240",
   "metadata": {},
   "source": [
    "### 3. Basic Navigation & File Operations"
   ]
  },
  {
   "cell_type": "code",
   "execution_count": null,
   "id": "94c43a34-5825-449d-b5de-f51c6e36cf80",
   "metadata": {},
   "outputs": [],
   "source": [
    "pwd              # Print working directory\n",
    "ls               # List files\n",
    "ls -l            # Detailed list (permissions, owner, size, time)\n",
    "ls -a            # Show hidden files (start with .)\n",
    "cd <dir>         # Change directory\n",
    "cd ..            # Go one directory up\n",
    "cd ~             # Go to home directory"
   ]
  },
  {
   "cell_type": "markdown",
   "id": "795e8f4d-e421-44b6-bc2c-ceee23dbf2c5",
   "metadata": {},
   "source": [
    "### 4. File & Directory Management"
   ]
  },
  {
   "cell_type": "code",
   "execution_count": null,
   "id": "5631e3b2-2ae8-48a4-bb78-1b259cc3ec27",
   "metadata": {},
   "outputs": [],
   "source": [
    "touch file.txt        # Create empty file\n",
    "mkdir new_folder      # Create directory\n",
    "mkdir -p a/b/c        # Create nested directories\n",
    "cp file1 file2        # Copy file\n",
    "cp -r dir1 dir2       # Copy directory\n",
    "mv old.txt new.txt    # Rename/move file\n",
    "rm file.txt           # Delete file\n",
    "rm -r folder/         # Delete folder"
   ]
  },
  {
   "cell_type": "markdown",
   "id": "5d875e6e-f44a-4bd0-9052-ffc66f046e19",
   "metadata": {},
   "source": [
    "**⚠️ rm -rf / = DANGEROUS, don’t run it.**"
   ]
  },
  {
   "cell_type": "markdown",
   "id": "6f4ccdac-d48f-4d9e-a77c-b4eebd6fcbd8",
   "metadata": {},
   "source": [
    "### 5. Viewing & Editing Files"
   ]
  },
  {
   "cell_type": "code",
   "execution_count": null,
   "id": "d0230def-97fb-4695-b457-10d453ecf2f5",
   "metadata": {},
   "outputs": [],
   "source": [
    "cat file.txt          # View whole file\n",
    "less file.txt         # View file page by page\n",
    "head file.txt         # First 10 lines\n",
    "head -n 20 file.txt   # First 20 lines\n",
    "tail file.txt         # Last 10 lines\n",
    "tail -f log.txt       # Watch logs live\n",
    "nano file.txt         # Simple text editor\n",
    "vi file.txt           # Advanced text editor"
   ]
  },
  {
   "cell_type": "markdown",
   "id": "65f9ff06-5c98-44d0-abd0-4b24278885f4",
   "metadata": {},
   "source": [
    "### 6. File Permissions"
   ]
  },
  {
   "cell_type": "code",
   "execution_count": null,
   "id": "596b5d3d-3c84-40c4-815b-7139f2ae69af",
   "metadata": {},
   "outputs": [],
   "source": [
    "ls -l                 # Show permissions\n",
    "chmod 755 script.sh   # Change permissions (rwxr-xr-x)\n",
    "chmod +x script.sh    # Make file executable\n",
    "chown user:group file # Change owner"
   ]
  },
  {
   "cell_type": "markdown",
   "id": "fec049dd-a41a-48ce-96c3-3f51ddb081ee",
   "metadata": {},
   "source": [
    "### 7. Searching & Finding"
   ]
  },
  {
   "cell_type": "code",
   "execution_count": null,
   "id": "106326f9-7a15-4b45-82bc-976f72342434",
   "metadata": {},
   "outputs": [],
   "source": [
    "find /path -name \"file.txt\"     # Find file by name\n",
    "find . -type f -name \"*.py\"     # Find Python files\n",
    "grep \"keyword\" file.txt         # Search text inside file\n",
    "grep -i \"hello\" file.txt        # Case-insensitive search\n",
    "grep -r \"main()\" ./             # Recursive search in folder"
   ]
  },
  {
   "cell_type": "markdown",
   "id": "38b4277c-845e-4a4d-abc8-4654d2fca408",
   "metadata": {},
   "source": [
    "### 8. Process & System Monitoring"
   ]
  },
  {
   "cell_type": "code",
   "execution_count": null,
   "id": "80944d62-6ea4-4bbe-96a0-d671549b9e0b",
   "metadata": {},
   "outputs": [],
   "source": [
    "ps               # Show processes\n",
    "ps aux | grep python   # Find Python processes\n",
    "top              # Show running processes (press q to quit)\n",
    "htop             # (better version of top, may need install)\n",
    "kill <pid>       # Kill process\n",
    "kill -9 <pid>    # Force kill process"
   ]
  },
  {
   "cell_type": "markdown",
   "id": "3bc45dd0-c363-4289-8e7c-08c706ed7700",
   "metadata": {},
   "source": [
    "### 9. Disk & System Info"
   ]
  },
  {
   "cell_type": "code",
   "execution_count": null,
   "id": "a7242d68-5759-4bcf-aab7-6848b105477f",
   "metadata": {},
   "outputs": [],
   "source": [
    "df -h            # Disk usage (human readable)\n",
    "du -sh folder/   # Size of folder\n",
    "free -h          # Memory usage\n",
    "uname -a         # System info\n",
    "whoami           # Current user\n",
    "uptime           # System uptime"
   ]
  },
  {
   "cell_type": "markdown",
   "id": "c4ad4b6e-1e19-47ea-a339-33f1b9add253",
   "metadata": {},
   "source": [
    "### 10. Networking"
   ]
  },
  {
   "cell_type": "code",
   "execution_count": null,
   "id": "4550c4eb-e8ea-45fa-80a9-77ce5de62dac",
   "metadata": {},
   "outputs": [],
   "source": [
    "ping google.com          # Check connectivity\n",
    "curl https://api.com     # Fetch data from URL\n",
    "wget https://file.com    # Download file\n",
    "ifconfig                 # Network info (Linux)\n",
    "ip addr show             # Modern alternative\n",
    "netstat -tulnp           # Show open ports"
   ]
  },
  {
   "cell_type": "markdown",
   "id": "445b1071-cdd0-43ad-bba0-3e0e5fb68116",
   "metadata": {},
   "source": [
    "### 11. Compression & Archiving"
   ]
  },
  {
   "cell_type": "code",
   "execution_count": null,
   "id": "6725dbc7-f098-4e8e-81d6-36a1d86c3c5a",
   "metadata": {},
   "outputs": [],
   "source": [
    "tar -cvf archive.tar file1 file2   # Create tar archive\n",
    "tar -xvf archive.tar               # Extract tar archive\n",
    "tar -czvf archive.tar.gz dir/      # Create compressed tar.gz\n",
    "tar -xzvf archive.tar.gz           # Extract tar.gz\n",
    "zip files.zip file1 file2          # Create zip\n",
    "unzip files.zip                    # Extract zip"
   ]
  },
  {
   "cell_type": "markdown",
   "id": "2dd56c11-e782-4e59-8e1b-efac3c36469c",
   "metadata": {},
   "source": [
    "### 12. User Management (needs sudo)"
   ]
  },
  {
   "cell_type": "code",
   "execution_count": null,
   "id": "bf434a0b-3328-47cc-bcbf-b1e455d8fa4b",
   "metadata": {},
   "outputs": [],
   "source": [
    "sudo adduser newuser      # Add user\n",
    "sudo passwd newuser       # Change password\n",
    "sudo deluser newuser      # Delete user\n",
    "who                       # Logged-in users\n",
    "id                        # Current user info"
   ]
  },
  {
   "cell_type": "markdown",
   "id": "06178823-5375-4cd3-95df-6e0ed407bb31",
   "metadata": {},
   "source": [
    "### 13. Package Management (Depends on OS)"
   ]
  },
  {
   "cell_type": "markdown",
   "id": "b7b7dd16-25c3-403a-a746-04fe454c2cf2",
   "metadata": {},
   "source": [
    "**Debian/Ubuntu:**"
   ]
  },
  {
   "cell_type": "code",
   "execution_count": null,
   "id": "f47e3ee0-7d27-44b5-848e-d64cd3ce5147",
   "metadata": {},
   "outputs": [],
   "source": [
    "sudo apt update           # Refresh package list\n",
    "sudo apt upgrade          # Upgrade packages\n",
    "sudo apt install htop     # Install package\n",
    "sudo apt remove htop      # Remove package"
   ]
  },
  {
   "cell_type": "markdown",
   "id": "6025270a-859b-477b-a21b-6015cda3b875",
   "metadata": {},
   "source": [
    "### 14. Redirection & Pipes"
   ]
  },
  {
   "cell_type": "code",
   "execution_count": null,
   "id": "b4f56d4a-9cff-4550-941d-35ecef3ce59f",
   "metadata": {},
   "outputs": [],
   "source": [
    "ls > files.txt            # Save output to file\n",
    "ls >> files.txt           # Append output\n",
    "cat file.txt | grep \"AI\"  # Pipe (output of one to input of another)\n",
    "sort file.txt             # Sort file contents\n",
    "uniq file.txt             # Remove duplicates\n",
    "wc -l file.txt            # Count lines"
   ]
  },
  {
   "cell_type": "markdown",
   "id": "7d0394f6-d41d-4fb5-883b-fe5173bfa1b5",
   "metadata": {},
   "source": [
    "### 15. Shell Tricks"
   ]
  },
  {
   "cell_type": "code",
   "execution_count": null,
   "id": "9376b6d9-0442-4dbe-a875-4dc9632a0eb1",
   "metadata": {},
   "outputs": [],
   "source": [
    "history          # Show command history\n",
    "!!               # Run last command\n",
    "!n               # Run nth command from history\n",
    "clear            # Clear screen\n",
    "alias ll=\"ls -l\" # Create shortcut"
   ]
  },
  {
   "cell_type": "markdown",
   "id": "8d2ffc44-2039-41c0-adb3-6011a8f0e618",
   "metadata": {},
   "source": [
    "### 16. Optional: sanity-check what policy you actually have (powershell)"
   ]
  },
  {
   "cell_type": "code",
   "execution_count": null,
   "id": "e042f074-5544-4177-8a45-da3db6d235db",
   "metadata": {},
   "outputs": [],
   "source": [
    "Get-ExecutionPolicy -List"
   ]
  },
  {
   "cell_type": "code",
   "execution_count": null,
   "id": "5d6478e2-d740-4615-881c-66bb69590809",
   "metadata": {},
   "outputs": [],
   "source": []
  },
  {
   "cell_type": "markdown",
   "id": "36162e65-5e74-44a4-9d9f-573cc74153db",
   "metadata": {},
   "source": [
    "### 🐍 Core Python Routines"
   ]
  },
  {
   "cell_type": "markdown",
   "id": "38095a6f-a3b1-4413-9eac-f11509ef69d5",
   "metadata": {},
   "source": [
    "| Task                     | Bash                        | PowerShell                   |\n",
    "| ------------------------ | --------------------------- | ---------------------------- |\n",
    "| Create venv (Python 3.x) | `python3 -m venv .venv`     | `py -3 -m venv .venv`        |\n",
    "| Activate                 | `source .venv/bin/activate` | `.venv\\Scripts\\Activate.ps1` |\n",
    "| Deactivate               | `deactivate`                | `deactivate`                 |\n",
    "| Show interpreter         | `which python`              | `Get-Command python`         |\n"
   ]
  },
  {
   "cell_type": "markdown",
   "id": "770b9698-3664-4eb5-b73a-8ac26f0efda7",
   "metadata": {},
   "source": [
    "**Tip (PS): If activation script won’t run:**\n",
    "\n",
    "Set-ExecutionPolicy -Scope CurrentUser RemoteSigned"
   ]
  },
  {
   "cell_type": "markdown",
   "id": "e1cfc69e-4184-4047-bed5-7572aeebe897",
   "metadata": {},
   "source": [
    "### Install packages (project)"
   ]
  },
  {
   "cell_type": "markdown",
   "id": "6ffcd2ab-729c-4945-a7c8-0caf9eb6c138",
   "metadata": {},
   "source": [
    "| Task                  | Bash                              | PowerShell                 |\n",
    "| --------------------- | --------------------------------- | -------------------------- |\n",
    "| Install package       | `pip install requests`            | `pip install requests`     |\n",
    "| Freeze exact versions | `pip freeze > requirements.txt`   | same                       |\n",
    "| Install from file     | `pip install -r requirements.txt` | same                       |\n",
    "| Upgrade pip           | `python -m pip install -U pip`    | `py -m pip install -U pip` |\n"
   ]
  },
  {
   "cell_type": "markdown",
   "id": "f735c712-27ed-4182-8e86-d5484adbe416",
   "metadata": {},
   "source": [
    "### Isolated CLIs with pipx (great for dev tools)"
   ]
  },
  {
   "cell_type": "markdown",
   "id": "c247c38d-51aa-4e48-bb4b-699f9601e5cd",
   "metadata": {},
   "source": [
    "| Task           | Bash                                                    | PowerShell                                       |\n",
    "| -------------- | ------------------------------------------------------- | ------------------------------------------------ |\n",
    "| Install pipx   | `python3 -m pip install --user pipx && pipx ensurepath` | `py -m pip install --user pipx; pipx ensurepath` |\n",
    "| Install a tool | `pipx install black`                                    | same                                             |\n",
    "| Upgrade a tool | `pipx upgrade black`                                    | same                                             |\n"
   ]
  },
  {
   "cell_type": "markdown",
   "id": "8c3186c1-c275-4266-8725-28b122086d13",
   "metadata": {},
   "source": [
    "### Popular Python toolchain (one-liners)"
   ]
  },
  {
   "cell_type": "markdown",
   "id": "078842ab-b742-4529-a032-ab01b61ceab0",
   "metadata": {},
   "source": [
    "| Purpose           | Command (Bash & PS unless noted)                   |\n",
    "| ----------------- | -------------------------------------------------- |\n",
    "| Format            | `black .`                                          |\n",
    "| Import sort       | `isort .`                                          |\n",
    "| Lint (fast)       | `ruff check .`                                     |\n",
    "| Type-check        | `mypy src/`                                        |\n",
    "| Test              | `pytest -q`                                        |\n",
    "| Build wheel/sdist | `python -m build`                                  |\n",
    "| Publish           | `python -m twine upload dist/*`                    |\n",
    "| Run module        | `python -m http.server 8000` (quick static server) |\n"
   ]
  },
  {
   "cell_type": "markdown",
   "id": "f32aae2f-7946-40e8-a776-87615f62d624",
   "metadata": {},
   "source": [
    "### 🧰 Environment & Config"
   ]
  },
  {
   "cell_type": "markdown",
   "id": "11875634-1d4c-4472-9199-1cfb5d723eb9",
   "metadata": {},
   "source": [
    "| Task                        | Bash                          | PowerShell                      |                                                                |\n",
    "| --------------------------- | ----------------------------- | ------------------------------- | -------------------------------------------------------------- |\n",
    "| Set env var (current shell) | `export DEBUG=1`              | `$env:DEBUG = \"1\"`              |                                                                |\n",
    "| Run with a one-off env var  | `DEBUG=1 python app.py`       | `$env:DEBUG=\"1\"; python app.py` |                                                                |\n",
    "| Show env vars               | `printenv`                    | `Get-ChildItem Env:`            |                                                                |\n",
    "| Read .env into shell\\*      | `set -a; source .env; set +a` | \\`Get-Content .env              | ForEach-Object { \\$n,\\$v = $\\_ -split '=',2; \\$env:\\$n=\\$v }\\` |\n"
   ]
  },
  {
   "cell_type": "markdown",
   "id": "ca3e0e56-dc4b-4bae-9580-a0416778bc29",
   "metadata": {},
   "source": [
    "### 📂 Project Scaffolding & Files"
   ]
  },
  {
   "cell_type": "markdown",
   "id": "87f6ff7b-f30b-4a5c-b531-1971cdca4613",
   "metadata": {},
   "source": [
    "| Task        | Bash                                                   | PowerShell                                          |\n",
    "| ----------- | ------------------------------------------------------ | --------------------------------------------------- |\n",
    "| Make dirs   | `mkdir -p src/tests`                                   | `New-Item -ItemType Directory src, tests`           |\n",
    "| Quick files | `touch app.py`                                         | `New-Item app.py -ItemType File`                    |\n",
    "| List tree   | `tree -a`                                              | `tree` (if installed) or `Get-ChildItem -Recurse`   |\n",
    "| Find files  | `find . -name \"*.py\"`                                  | `Get-ChildItem -Recurse -Filter *.py`               |\n",
    "| Search text | `grep -R \"TODO\" .`                                     | `Select-String -Path . -Pattern \"TODO\" -AllMatches` |\n",
    "| Count lines | `wc -l **/*.py` (zsh) / \\`find . -name \"\\*.py\" -print0 | xargs -0 wc -l\\`                                    |\n"
   ]
  },
  {
   "cell_type": "markdown",
   "id": "21e7713b-561e-4452-8a38-1239e89689d6",
   "metadata": {},
   "source": [
    "### 🔄 Running & Managing Processes"
   ]
  },
  {
   "cell_type": "markdown",
   "id": "3a452826-3087-4b2e-ba48-43a6c356bbfc",
   "metadata": {},
   "source": [
    "| Task            | Bash                                                           | PowerShell                           |\n",
    "| --------------- | -------------------------------------------------------------- | ------------------------------------ |\n",
    "| Run script      | `python script.py`                                             | `py script.py` or `python script.py` |\n",
    "| Background run  | `python app.py &`                                              | `Start-Process python app.py`        |\n",
    "| Watch & restart | `watchexec -r -- python app.py` (via `pipx install watchexec`) | same                                 |\n",
    "| Show processes  | \\`ps aux                                                       | grep python\\`                        |\n",
    "| Kill process    | `kill <PID>`                                                   | `Stop-Process -Id <PID>`             |\n"
   ]
  },
  {
   "cell_type": "markdown",
   "id": "afce2520-d201-4350-8e6b-14e3e2af9e33",
   "metadata": {},
   "source": [
    "### 🌐 Networking & APIs (handy for dev)"
   ]
  },
  {
   "cell_type": "markdown",
   "id": "661efe42-f0c8-4c4b-8ba6-7b9c1bc67b1d",
   "metadata": {},
   "source": [
    "| Task              | Bash                              | PowerShell                                                         |                         |                           |\n",
    "| ----------------- | --------------------------------- | ------------------------------------------------------------------ | ----------------------- | ------------------------- |\n",
    "| HTTP request      | `curl -v https://httpbin.org/get` | `Invoke-WebRequest https://httpbin.org/get` or `Invoke-RestMethod` |                         |                           |\n",
    "| JSON pretty-print | \\`curl ...                        | jq\\`                                                               | \\`Invoke-RestMethod ... | ConvertTo-Json -Depth 6\\` |\n",
    "| Local server test | `python -m http.server 8000`      | same                                                               |                         |                           |\n"
   ]
  },
  {
   "cell_type": "markdown",
   "id": "a77f15f0-d6cf-4e04-b0b2-4f12296025b6",
   "metadata": {},
   "source": [
    "### 📦 Packaging / Poetry / Conda (optional but common)"
   ]
  },
  {
   "cell_type": "markdown",
   "id": "d85cbd4f-42f2-4521-8863-216f3d87f06e",
   "metadata": {},
   "source": [
    "**Poetry**\n",
    "\n",
    "| Task           | Bash                   | PowerShell |\n",
    "| -------------- | ---------------------- | ---------- |\n",
    "| Install        | `pipx install poetry`  | same       |\n",
    "| Init project   | `poetry init`          | same       |\n",
    "| Add dep        | `poetry add requests`  | same       |\n",
    "| Run cmd in env | `poetry run python -V` | same       |\n",
    "| Shell          | `poetry shell`         | same       |\n"
   ]
  },
  {
   "cell_type": "markdown",
   "id": "0986c2ad-be91-4709-8d55-3cffb6966169",
   "metadata": {},
   "source": [
    "**Conda / Mamba**\n",
    "\n",
    "| Task        | Bash                                | PowerShell |\n",
    "| ----------- | ----------------------------------- | ---------- |\n",
    "| Create env  | `conda create -n myenv python=3.12` | same       |\n",
    "| Activate    | `conda activate myenv`              | same       |\n",
    "| Install pkg | `conda install numpy`               | same       |\n"
   ]
  },
  {
   "cell_type": "markdown",
   "id": "4a65c327-e2dd-4777-be73-a54daa992857",
   "metadata": {},
   "source": [
    "### 🧪 Quality Gates in One Go"
   ]
  },
  {
   "cell_type": "markdown",
   "id": "e660b15f-472f-4013-8ebe-8fe89db812cf",
   "metadata": {},
   "source": [
    "**bash**"
   ]
  },
  {
   "cell_type": "code",
   "execution_count": null,
   "id": "32b401e7-b885-41a0-be6e-92c55a890c12",
   "metadata": {},
   "outputs": [],
   "source": [
    "ruff check . && black --check . && pytest -q"
   ]
  },
  {
   "cell_type": "markdown",
   "id": "99542374-c676-4684-a602-4bb964f8842a",
   "metadata": {},
   "source": [
    "**PowerShell**"
   ]
  },
  {
   "cell_type": "code",
   "execution_count": null,
   "id": "0389429a-97da-4c96-a73c-605c1edd8ae2",
   "metadata": {},
   "outputs": [],
   "source": [
    "ruff check .; if ($?) { black --check . }; if ($?) { pytest -q }"
   ]
  },
  {
   "cell_type": "markdown",
   "id": "9f957ea4-0c2d-4dbc-ac68-447cec8a1f47",
   "metadata": {},
   "source": [
    "### 🐳 Docker (quick Python dev)"
   ]
  },
  {
   "cell_type": "markdown",
   "id": "d7acc3b3-f7e6-4ff5-8f47-27e09e6ae98a",
   "metadata": {},
   "source": [
    "| Task             | Bash                                                                                | PowerShell                                                                            |\n",
    "| ---------------- | ----------------------------------------------------------------------------------- | ------------------------------------------------------------------------------------- |\n",
    "| Build            | `docker build -t myapp .`                                                           | same                                                                                  |\n",
    "| Run (mount code) | `docker run -it --rm -p 8000:8000 -v \"$PWD\":/app -w /app python:3.12 python app.py` | `docker run -it --rm -p 8000:8000 -v \"${PWD}:/app\" -w /app python:3.12 python app.py` |\n"
   ]
  },
  {
   "cell_type": "markdown",
   "id": "55aca71e-bb9b-4c6b-869c-5886617505cc",
   "metadata": {},
   "source": [
    "### ⚙️ Git essentials (you’ll use this constantly)"
   ]
  },
  {
   "cell_type": "markdown",
   "id": "91e7d47e-2f1a-4d25-8111-2601e9e6df97",
   "metadata": {},
   "source": [
    "| Task                | Bash                                            | PowerShell |\n",
    "| ------------------- | ----------------------------------------------- | ---------- |\n",
    "| Init & first commit | `git init && git add . && git commit -m \"init\"` | same       |\n",
    "| New branch          | `git checkout -b feature/x`                     | same       |\n",
    "| Rebase main         | `git fetch origin && git rebase origin/main`    | same       |\n",
    "| Stash               | `git stash -u` / `git stash pop`                | same       |\n"
   ]
  },
  {
   "cell_type": "markdown",
   "id": "70d8b4e0-16f3-4bd8-b2df-6982d119d94e",
   "metadata": {},
   "source": [
    "### 🔹 Basic Commands"
   ]
  },
  {
   "cell_type": "code",
   "execution_count": null,
   "id": "36be7413-f9e7-4d77-a911-5ebe0ea4a5df",
   "metadata": {},
   "outputs": [],
   "source": [
    "pip --version        # Show pip version\n",
    "pip --help           # Show help for pip\n",
    "pip help <command>   # Show help for a specific command"
   ]
  },
  {
   "cell_type": "markdown",
   "id": "a6ab3975-a8df-402b-983f-1ee3ed740adb",
   "metadata": {},
   "source": [
    "### 🔹 Installing Packages"
   ]
  },
  {
   "cell_type": "code",
   "execution_count": null,
   "id": "2f4bb042-31dc-42ed-9a40-b90e1881ceed",
   "metadata": {},
   "outputs": [],
   "source": [
    "pip install <package>                # Install latest version of a package\n",
    "pip install <package>==1.2.3         # Install specific version\n",
    "pip install <package>>=1.0,<2.0      # Install version in a range\n",
    "pip install -U <package>             # Upgrade a package\n",
    "pip install --force-reinstall <pkg>  # Force reinstall\n",
    "pip install --user <package>         # Install to user site directory\n",
    "pip install --no-cache-dir <package> # Install without cache\n",
    "pip install -e .                     # Install current directory in editable mode\n",
    "pip install -r requirements.txt      # Install from requirements file\n",
    "pip install git+https://url/repo.git # Install directly from Git\n",
    "pip install ./package.whl            # Install from wheel file\n",
    "pip install ./package.tar.gz         # Install from tarball"
   ]
  },
  {
   "cell_type": "markdown",
   "id": "4802b333-dd8e-4870-8df0-87bf900853f7",
   "metadata": {},
   "source": [
    "### 🔹 Uninstalling Packages"
   ]
  },
  {
   "cell_type": "code",
   "execution_count": null,
   "id": "d718a207-efeb-42ba-beee-25a0148d432e",
   "metadata": {},
   "outputs": [],
   "source": [
    "pip uninstall <package>              # Uninstall a package\n",
    "pip uninstall -y <package>           # Uninstall without confirmation"
   ]
  },
  {
   "cell_type": "markdown",
   "id": "34e71bdb-0946-4e91-a449-70a043c667cc",
   "metadata": {},
   "source": [
    "### 🔹 Listing & Checking Packages"
   ]
  },
  {
   "cell_type": "code",
   "execution_count": null,
   "id": "4ab90764-9049-4397-badb-21a298d85f05",
   "metadata": {},
   "outputs": [],
   "source": [
    "pip list                             # List installed packages\n",
    "pip list --outdated                  # List outdated packages\n",
    "pip list --uptodate                  # List up-to-date packages\n",
    "pip freeze                           # List installed packages in requirements format\n",
    "pip show <package>                   # Show details about a package\n",
    "pip check                            # Verify installed packages for broken requirements"
   ]
  },
  {
   "cell_type": "markdown",
   "id": "afba250c-b98a-44ad-b94c-96f3c0e1631c",
   "metadata": {},
   "source": [
    "### 🔹 Searching"
   ]
  },
  {
   "cell_type": "code",
   "execution_count": null,
   "id": "a318ec9e-2571-48f6-bbbd-cd7e81a7824c",
   "metadata": {},
   "outputs": [],
   "source": [
    "pip search <package>                 # Search for a package (⚠️ deprecated on PyPI)"
   ]
  },
  {
   "cell_type": "markdown",
   "id": "90c1bf1d-06b3-4ac0-be2a-62023bdf8a44",
   "metadata": {},
   "source": [
    "### 🔹 Downloading Packages (without installing)"
   ]
  },
  {
   "cell_type": "code",
   "execution_count": null,
   "id": "30fedd25-64c4-47a5-80ea-d69c7422414a",
   "metadata": {},
   "outputs": [],
   "source": [
    "pip download <package>               # Download package source/wheel\n",
    "pip download -d <dir> <package>      # Download into a specific directory"
   ]
  },
  {
   "cell_type": "markdown",
   "id": "f73c93da-4bd8-4511-b9ef-e56f84c185c2",
   "metadata": {},
   "source": [
    "### 🔹 Caching"
   ]
  },
  {
   "cell_type": "code",
   "execution_count": null,
   "id": "8be34a24-ce3d-44aa-9fd4-91343feda93a",
   "metadata": {},
   "outputs": [],
   "source": [
    "pip cache dir                        # Show cache directory\n",
    "pip cache info                       # Show cache statistics\n",
    "pip cache list                       # List cache entries\n",
    "pip cache remove <package>           # Remove specific entries from cache\n",
    "pip cache purge                      # Clear entire cache"
   ]
  },
  {
   "cell_type": "markdown",
   "id": "cb3db01c-226c-46d6-90fb-dbc4dee0fb08",
   "metadata": {},
   "source": [
    "### 🔹 Configuration & Environment"
   ]
  },
  {
   "cell_type": "code",
   "execution_count": null,
   "id": "7ee6bff2-7991-461d-acd2-160625f59088",
   "metadata": {},
   "outputs": [],
   "source": [
    "pip config list                      # List config settings\n",
    "pip config get <name>                # Get config value\n",
    "pip config set <name> <value>        # Set config value\n",
    "pip config unset <name>              # Remove config setting\n",
    "\n",
    "pip debug                            # Show debugging information about environment\n",
    "pip debug --verbose                  # More detailed debug info"
   ]
  },
  {
   "cell_type": "markdown",
   "id": "2f8ac6f6-c2ef-4a57-a675-0feba4324d89",
   "metadata": {},
   "source": [
    "### 🔹 Building & Packaging"
   ]
  },
  {
   "cell_type": "code",
   "execution_count": null,
   "id": "3baaca8d-130c-46e8-a7de-ed86733dfc9a",
   "metadata": {},
   "outputs": [],
   "source": [
    "pip wheel <package>                  # Build a wheel for a package\n",
    "pip wheel -r requirements.txt        # Build wheels for all packages in requirements"
   ]
  },
  {
   "cell_type": "markdown",
   "id": "79dfabb1-8d67-4e3f-bc7e-99df5480038d",
   "metadata": {},
   "source": [
    "### 🔹 Upgrading pip itself"
   ]
  },
  {
   "cell_type": "code",
   "execution_count": null,
   "id": "a86181c6-7aa7-4a40-9100-51d31bc5c341",
   "metadata": {},
   "outputs": [],
   "source": [
    "python -m pip install --upgrade pip  # Upgrade pip safely"
   ]
  },
  {
   "cell_type": "markdown",
   "id": "3bd7ed7e-6814-46b5-8c79-b06c0de2f2f7",
   "metadata": {},
   "source": [
    "### Purge pip caches (free space & avoid conflicts)"
   ]
  },
  {
   "cell_type": "markdown",
   "id": "64791403-87ac-458c-b693-2275aad99226",
   "metadata": {},
   "source": [
    "**PowerShelll**"
   ]
  },
  {
   "cell_type": "code",
   "execution_count": null,
   "id": "7b4912ab-3da7-47a2-bd79-45b648079a58",
   "metadata": {},
   "outputs": [],
   "source": [
    "python -m pip cache purge"
   ]
  },
  {
   "cell_type": "markdown",
   "id": "1c036ee4-f206-4270-b30f-a0e00cf38fe2",
   "metadata": {},
   "source": [
    "### Uninstall ALL globally installed packages (safely)"
   ]
  },
  {
   "cell_type": "markdown",
   "id": "c2d6f18d-15a5-44e2-84bc-a40a2a72c903",
   "metadata": {},
   "source": [
    "**We’ll uninstall everything except pip, setuptools, and wheel.** (Powershell)"
   ]
  },
  {
   "cell_type": "code",
   "execution_count": null,
   "id": "aaa00baf-013f-462d-9ab2-bf4c068e72bd",
   "metadata": {},
   "outputs": [],
   "source": [
    "# Uninstall from the active (global/user) environment\n",
    "$pkgs = python -m pip freeze | Select-String -NotMatch '^(pip|setuptools|wheel)=='\n",
    "foreach ($line in $pkgs) {\n",
    "  $name = ($line.ToString() -split '==')[0]\n",
    "  if ($name) { python -m pip uninstall -y $name }\n",
    "}\n",
    "\n",
    "# If you also want to specifically target user-site packages:\n",
    "$upkgs = python -m pip list --user --format=freeze | Select-String -NotMatch '^(pip|setuptools|wheel)=='\n",
    "foreach ($line in $upkgs) {\n",
    "  $name = ($line.ToString() -split '==')[0]\n",
    "  if ($name) { python -m pip uninstall -y $name }\n",
    "}"
   ]
  },
  {
   "cell_type": "markdown",
   "id": "e9fb8874-1003-498c-bc6a-ee988117623d",
   "metadata": {},
   "source": [
    "### Reinstall minimal base tooling (clean & up-to-date)"
   ]
  },
  {
   "cell_type": "code",
   "execution_count": null,
   "id": "f816cd44-bf42-4a2b-8fb3-fe5cb3e39f3e",
   "metadata": {},
   "outputs": [],
   "source": [
    "python -m pip install --upgrade pip setuptools wheel"
   ]
  }
 ],
 "metadata": {
  "kernelspec": {
   "display_name": "Python 3 (ipykernel)",
   "language": "python",
   "name": "python3"
  },
  "language_info": {
   "codemirror_mode": {
    "name": "ipython",
    "version": 3
   },
   "file_extension": ".py",
   "mimetype": "text/x-python",
   "name": "python",
   "nbconvert_exporter": "python",
   "pygments_lexer": "ipython3",
   "version": "3.12.10"
  }
 },
 "nbformat": 4,
 "nbformat_minor": 5
}
